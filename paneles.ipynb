{
 "cells": [
  {
   "cell_type": "code",
   "execution_count": 3,
   "metadata": {},
   "outputs": [],
   "source": [
    "import numpy as np"
   ]
  },
  {
   "cell_type": "code",
   "execution_count": null,
   "metadata": {},
   "outputs": [],
   "source": [
    "Vinf = 1\n",
    "num_front = 9\n",
    "\n",
    "alpha_grad = 0\n",
    "alpha_rad = alpha_grad*(np.pi/180)\n",
    "\n",
    "tO   = (360/(num_front-1))/2\n",
    "\n",
    "theta = (np.linspace(0, 360, num_front) + tO)*(np.pi / 180)\n",
    "\n",
    "\n",
    "XB = np.cos(theta)\n",
    "YB = np.sin(theta)\n",
    "\n",
    "num_pan = len(XB)-1\n",
    "\n",
    "borde = np.zeros(num_pan)\n",
    "\n",
    "edge = (XB[1:]-XB[:-1])*(YB[1:]+YB[:-1])\n",
    "\n",
    "sum_edge = np.sum(edge)\n",
    "\n",
    "if sum_edge < 0:\n",
    "    XB = np.flipud(XB)\n",
    "    YB = np.flipud(YB)\n"
   ]
  },
  {
   "cell_type": "code",
   "execution_count": null,
   "metadata": {},
   "outputs": [],
   "source": [
    "XC = np.zeros(num_pan)\n",
    "YC = np.zeros(num_pan)\n",
    "S = np.zeros(num_pan)\n",
    "phi = np.zeros(num_pan)"
   ]
  },
  {
   "cell_type": "code",
   "execution_count": null,
   "metadata": {},
   "outputs": [],
   "source": []
  },
  {
   "cell_type": "code",
   "execution_count": 15,
   "metadata": {},
   "outputs": [],
   "source": [
    "def calcular_I():\n",
    "    None"
   ]
  }
 ],
 "metadata": {
  "kernelspec": {
   "display_name": "base",
   "language": "python",
   "name": "python3"
  },
  "language_info": {
   "codemirror_mode": {
    "name": "ipython",
    "version": 3
   },
   "file_extension": ".py",
   "mimetype": "text/x-python",
   "name": "python",
   "nbconvert_exporter": "python",
   "pygments_lexer": "ipython3",
   "version": "3.12.3"
  }
 },
 "nbformat": 4,
 "nbformat_minor": 2
}
